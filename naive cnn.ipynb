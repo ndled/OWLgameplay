{
 "cells": [
  {
   "cell_type": "markdown",
   "id": "e1f0ccc2",
   "metadata": {},
   "source": [
    "## Intro"
   ]
  },
  {
   "cell_type": "markdown",
   "id": "7b76c757",
   "metadata": {},
   "source": [
    "This is a silly project that started with me and my brothers watching overwatch league matches and complaining about how terrible the casters are at filling time. I was looking for a new data science personal project and figured why not try and solve our problem with machine learning. In this notebook, I've written a convolutiuon neurel network to identify gameplay and skip all other parts of the match. It actually works pretty well.\n",
    "\n",
    "Things I read while doing this\n",
    "\n",
    "1) http://zulko.github.io/blog/2014/07/04/automatic-soccer-highlights-compilations-with-python/\n",
    "\n",
    "2) https://www.udemy.com/course/machinelearning/learn/lecture/6761136\n",
    "\n",
    "3) https://www.toptal.com/machine-learning/machine-learning-video-analysis\n",
    "\n",
    "4) https://www.analyticsvidhya.com/blog/2018/09/deep-learning-video-classification-python/\n",
    "\n",
    "5) https://machinelearningmastery.com/how-to-visualize-filters-and-feature-maps-in-convolutional-neural-networks/\n"
   ]
  },
  {
   "cell_type": "code",
   "execution_count": 79,
   "id": "20860782",
   "metadata": {},
   "outputs": [],
   "source": [
    "import cv2\n",
    "import math\n",
    "import pandas as pd\n",
    "import numpy as np\n",
    "from keras.utils import np_utils\n",
    "from skimage.transform import resize\n",
    "import tensorflow as tf\n",
    "from moviepy.editor import VideoFileClip, concatenate\n",
    "from keras.preprocessing.image import ImageDataGenerator\n",
    "import matplotlib.pyplot as plt"
   ]
  },
  {
   "cell_type": "markdown",
   "id": "cc05619d",
   "metadata": {},
   "source": [
    "## Cutting Up Train Videos Into Frames"
   ]
  },
  {
   "cell_type": "markdown",
   "id": "b80f963b",
   "metadata": {},
   "source": [
    "*NOTE* changed naming convention later on to         filename =\"pred/4train_%d.jpg\" % count;count+=1 so that it would work properly with the renaming function (so that it would work properly with the flow from directory)\n"
   ]
  },
  {
   "cell_type": "code",
   "execution_count": 221,
   "id": "59ae9830",
   "metadata": {},
   "outputs": [
    {
     "name": "stdout",
     "output_type": "stream",
     "text": [
      "Done!\n"
     ]
    }
   ],
   "source": [
    "# count = 0\n",
    "# videoFile = '@Chengdu Hunters vs @Dallas Fuel _ Summer Showdown Tournament _ Day 1-5kVvsQYk2I0.mp4'\n",
    "# cap = cv2.VideoCapture(videoFile)\n",
    "# frameRate = cap.get(5)\n",
    "# while(cap.isOpened()):\n",
    "#     frameId = cap.get(1)\n",
    "#     ret, frame = cap.read()\n",
    "#     if (ret != True):\n",
    "#         break\n",
    "#     if (frameId % math.floor(frameRate) == 0):\n",
    "#         filename =\"train/1_train%d.jpg\" % count;count+=1\n",
    "#         cv2.imwrite(filename, frame)\n",
    "# cap.release()\n",
    "# print (\"Done!\")"
   ]
  },
  {
   "cell_type": "code",
   "execution_count": null,
   "id": "4fc83c34",
   "metadata": {},
   "outputs": [],
   "source": [
    "# count = 0\n",
    "# videoFile = 'Losers Semi-Final _ @ATL Reign   vs   @Dallas Fuel _ Summer Showdown Tournament _ Day 2-RKKXYefOz5w.mp4'\n",
    "# cap = cv2.VideoCapture(videoFile)\n",
    "# frameRate = cap.get(5)\n",
    "# while(cap.isOpened()):\n",
    "#     frameId = cap.get(1)\n",
    "#     ret, frame = cap.read()\n",
    "#     if (ret != True):\n",
    "#         break\n",
    "#     if (frameId % math.floor(frameRate) == 0):\n",
    "#         filename =\"train/2_train%d.jpg\" % count;count+=1\n",
    "#         cv2.imwrite(filename, frame)\n",
    "# cap.release()\n",
    "# print (\"Done!\")"
   ]
  },
  {
   "cell_type": "code",
   "execution_count": null,
   "id": "53ccd222",
   "metadata": {},
   "outputs": [],
   "source": [
    "# count = 0\n",
    "# videoFile = 'Winners Finals _ @Chengdu Hunters vs  @Shanghai Dragons  _ Summer Showdown Tournament _ Day 2-hyCOml7JcrA.mp4'\n",
    "# cap = cv2.VideoCapture(videoFile)\n",
    "# frameRate = cap.get(5)\n",
    "# while(cap.isOpened()):\n",
    "#     frameId = cap.get(1)\n",
    "#     ret, frame = cap.read()\n",
    "#     if (ret != True):\n",
    "#         break\n",
    "#     if (frameId % math.floor(frameRate) == 0):\n",
    "#         filename =\"train/3_train%d.jpg\" % count;count+=1\n",
    "#         cv2.imwrite(filename, frame)\n",
    "# cap.release()\n",
    "# print (\"Done!\")"
   ]
  },
  {
   "cell_type": "markdown",
   "id": "6d2c93f3",
   "metadata": {},
   "source": [
    "From here, I manually sorted as gameplay vs not gameplay"
   ]
  },
  {
   "cell_type": "markdown",
   "id": "500c50be",
   "metadata": {},
   "source": [
    "## Loading In Video to Process"
   ]
  },
  {
   "cell_type": "code",
   "execution_count": 6,
   "id": "798a82a9",
   "metadata": {},
   "outputs": [
    {
     "name": "stdout",
     "output_type": "stream",
     "text": [
      "Done!\n"
     ]
    }
   ],
   "source": [
    "count = 0\n",
    "videoFile = 'Losers Finals _ @Chengdu Hunters vs @Dallas Fuel  _ Summer Showdown Tournament _ Day 2-dFcIIRQLbpo.mp4'\n",
    "cap = cv2.VideoCapture(videoFile)\n",
    "frameRate = cap.get(5)\n",
    "test_imgID = []\n",
    "while(cap.isOpened()):\n",
    "    frameId = cap.get(1)\n",
    "    ret, frame = cap.read()\n",
    "    if (ret != True):\n",
    "        break\n",
    "    if (frameId % math.floor(frameRate) == 0):\n",
    "        filename =\"pred/images/4train_%d.jpg\" % count;count+=1 # Naming with train is just so its consistent when I examin a new video and add this to train data\n",
    "        cv2.imwrite(filename, frame)\n",
    "        test_imgID.append(filename)\n",
    "cap.release()\n",
    "print (\"Done!\")"
   ]
  },
  {
   "cell_type": "markdown",
   "id": "d5e186c3",
   "metadata": {},
   "source": [
    "Yeah, so I keep running into a sorting issue where 0 comes first, then 1, then 10, then 100. Going to rename my files according to this stackoverflow solution. - https://stackoverflow.com/questions/5417979/batch-rename-sequential-files-by-padding-with-zeroes"
   ]
  },
  {
   "cell_type": "code",
   "execution_count": null,
   "id": "06318055",
   "metadata": {},
   "outputs": [],
   "source": [
    "# import os\n",
    "# path = 'pred/'\n",
    "# for filename in os.listdir(path):\n",
    "#     prefix, num = filename[:-4].split('_')\n",
    "#     num = num.zfill(4)\n",
    "#     new_filename = prefix + \"_\" + num + \".png\"\n",
    "#     os.rename(os.path.join(path, filename), os.path.join(path, new_filename))"
   ]
  },
  {
   "cell_type": "markdown",
   "id": "1415e992",
   "metadata": {},
   "source": [
    "## Data Preprocessing"
   ]
  },
  {
   "cell_type": "code",
   "execution_count": 7,
   "id": "a3fe72b2",
   "metadata": {},
   "outputs": [
    {
     "name": "stdout",
     "output_type": "stream",
     "text": [
      "Found 20223 images belonging to 2 classes.\n",
      "Found 5055 images belonging to 2 classes.\n"
     ]
    }
   ],
   "source": [
    "image_generator = ImageDataGenerator(rescale = 1./255,\n",
    "                                   validation_split=.2,\n",
    "                                   shear_range = 0.2,\n",
    "                                   zoom_range = 0.2,\n",
    "                                   horizontal_flip = True)\n",
    "training_set = image_generator.flow_from_directory(batch_size=32,\n",
    "                                                 directory='train',\n",
    "                                                 shuffle=True,\n",
    "                                                 target_size=(64, 64), \n",
    "                                                 subset=\"training\",\n",
    "                                                 class_mode='binary')\n",
    "test_set = image_generator.flow_from_directory(batch_size=32,\n",
    "                                                 directory='train',\n",
    "                                                 shuffle=True,\n",
    "                                                 target_size=(64, 64), \n",
    "                                                 subset=\"validation\",\n",
    "                                                 class_mode='binary')"
   ]
  },
  {
   "cell_type": "markdown",
   "id": "42643e83",
   "metadata": {},
   "source": [
    "## Building the CNN"
   ]
  },
  {
   "cell_type": "code",
   "execution_count": 8,
   "id": "20347387",
   "metadata": {},
   "outputs": [],
   "source": [
    "cnn = tf.keras.models.Sequential()\n",
    "cnn.add(tf.keras.layers.Conv2D(filters=32, kernel_size=3, activation='relu', input_shape=[64, 64, 3]))\n",
    "cnn.add(tf.keras.layers.MaxPool2D(pool_size=2, strides=2))\n",
    "cnn.add(tf.keras.layers.Conv2D(filters=32, kernel_size=3, activation='relu'))\n",
    "cnn.add(tf.keras.layers.MaxPool2D(pool_size=2, strides=2))\n",
    "cnn.add(tf.keras.layers.Flatten())\n",
    "cnn.add(tf.keras.layers.Dense(units=128, activation='relu'))\n",
    "cnn.add(tf.keras.layers.Dense(units=1, activation='sigmoid'))"
   ]
  },
  {
   "cell_type": "markdown",
   "id": "b711f301",
   "metadata": {},
   "source": [
    "## Training the CNN"
   ]
  },
  {
   "cell_type": "code",
   "execution_count": 9,
   "id": "96cd737a",
   "metadata": {},
   "outputs": [],
   "source": [
    "cnn.compile(optimizer = 'adam', loss = 'binary_crossentropy', metrics = ['accuracy'])"
   ]
  },
  {
   "cell_type": "code",
   "execution_count": 74,
   "id": "55d8563b",
   "metadata": {},
   "outputs": [
    {
     "name": "stdout",
     "output_type": "stream",
     "text": [
      "Epoch 1/5\n",
      "632/632 [==============================] - 213s 337ms/step - loss: 0.0059 - accuracy: 0.9978 - val_loss: 0.0169 - val_accuracy: 0.9953\n",
      "Epoch 2/5\n",
      "632/632 [==============================] - 214s 338ms/step - loss: 0.0085 - accuracy: 0.9975 - val_loss: 0.0071 - val_accuracy: 0.9984\n",
      "Epoch 3/5\n",
      "632/632 [==============================] - 212s 336ms/step - loss: 0.0065 - accuracy: 0.9980 - val_loss: 0.0118 - val_accuracy: 0.9962\n",
      "Epoch 4/5\n",
      "632/632 [==============================] - 206s 326ms/step - loss: 0.0050 - accuracy: 0.9984 - val_loss: 0.0157 - val_accuracy: 0.9955\n",
      "Epoch 5/5\n",
      "632/632 [==============================] - 211s 334ms/step - loss: 0.0077 - accuracy: 0.9978 - val_loss: 0.0053 - val_accuracy: 0.9988\n"
     ]
    },
    {
     "data": {
      "text/plain": [
       "<tensorflow.python.keras.callbacks.History at 0x1a70c7bebb0>"
      ]
     },
     "execution_count": 74,
     "metadata": {},
     "output_type": "execute_result"
    }
   ],
   "source": [
    "cnn.fit(x = training_set, validation_data = test_set, epochs = 25)"
   ]
  },
  {
   "cell_type": "markdown",
   "id": "1e7b36fc",
   "metadata": {},
   "source": [
    "### Saving/Loading the model"
   ]
  },
  {
   "cell_type": "code",
   "execution_count": 13,
   "id": "9cf93902",
   "metadata": {},
   "outputs": [],
   "source": [
    "# cnn_json = cnn.to_json()\n",
    "# with open(\"cnn.json\",\"w\") as json_file:\n",
    "#     json_file.write(cnn_json)\n",
    "# cnn.save_weights(\"model.h5\")"
   ]
  },
  {
   "cell_type": "code",
   "execution_count": 170,
   "id": "e67fd404",
   "metadata": {},
   "outputs": [],
   "source": [
    "# json_file = open('cnn.json', 'r')\n",
    "# loaded_model_json = json_file.read()\n",
    "# json_file.close()\n",
    "# cnn = tf.keras.models.model_from_json(loaded_model_json)\n",
    "# cnn.load_weights(\"model.h5\")"
   ]
  },
  {
   "cell_type": "markdown",
   "id": "d318c1b1",
   "metadata": {},
   "source": [
    "## Preprocessing Test Data"
   ]
  },
  {
   "cell_type": "markdown",
   "id": "8e40a6d4",
   "metadata": {},
   "source": [
    "going to try and use flow from directory"
   ]
  },
  {
   "cell_type": "code",
   "execution_count": 137,
   "id": "223ac7e0",
   "metadata": {},
   "outputs": [
    {
     "name": "stdout",
     "output_type": "stream",
     "text": [
      "Found 6283 images belonging to 1 classes.\n"
     ]
    }
   ],
   "source": [
    "image_generator2 = ImageDataGenerator(rescale = 1./255)\n",
    "\n",
    "test_generator = image_generator2.flow_from_directory(batch_size=1,\n",
    "                                                 directory='pred/',\n",
    "                                                 target_size=(64, 64), \n",
    "                                                 class_mode=None,\n",
    "                                                 shuffle = False)"
   ]
  },
  {
   "cell_type": "markdown",
   "id": "0db752db",
   "metadata": {},
   "source": [
    "## Predictions"
   ]
  },
  {
   "cell_type": "code",
   "execution_count": 138,
   "id": "a5ce0e5a",
   "metadata": {},
   "outputs": [
    {
     "name": "stdout",
     "output_type": "stream",
     "text": [
      "6283/6283 [==============================] - 45s 7ms/step\n"
     ]
    }
   ],
   "source": [
    "test_generator.reset()\n",
    "pred_probs=cnn.predict_generator(test_generator, steps=len(test_generator), verbose=1)"
   ]
  },
  {
   "cell_type": "code",
   "execution_count": 153,
   "id": "1b17c556",
   "metadata": {},
   "outputs": [
    {
     "data": {
      "text/plain": [
       "array([[2.9435754e-04],\n",
       "       [1.3597630e-05],\n",
       "       [1.0646293e-06],\n",
       "       [4.8117295e-07],\n",
       "       [1.0404751e-06],\n",
       "       [9.3861985e-08],\n",
       "       [4.2224137e-11],\n",
       "       [2.0105700e-10],\n",
       "       [4.8988143e-11],\n",
       "       [9.5734143e-10]], dtype=float32)"
      ]
     },
     "execution_count": 153,
     "metadata": {},
     "output_type": "execute_result"
    }
   ],
   "source": [
    "pred_probs[:10]"
   ]
  },
  {
   "cell_type": "code",
   "execution_count": 140,
   "id": "fc72dcf3",
   "metadata": {},
   "outputs": [],
   "source": [
    "pred_bin=(pred_probs>0.5).astype(\"int32\")"
   ]
  },
  {
   "cell_type": "code",
   "execution_count": 142,
   "id": "2c520c96",
   "metadata": {},
   "outputs": [
    {
     "data": {
      "text/plain": [
       "array([3550])"
      ]
     },
     "execution_count": 142,
     "metadata": {},
     "output_type": "execute_result"
    }
   ],
   "source": [
    "sum(pred_bin)"
   ]
  },
  {
   "cell_type": "markdown",
   "id": "914bdc5c",
   "metadata": {},
   "source": [
    "So, I want some sort of averaging here. Rolling average "
   ]
  },
  {
   "cell_type": "code",
   "execution_count": 117,
   "id": "293f91eb",
   "metadata": {},
   "outputs": [],
   "source": [
    "def moving_average(x, w):\n",
    "    return np.convolve(x, np.ones(w), 'valid') / w"
   ]
  },
  {
   "cell_type": "markdown",
   "id": "59f13a10",
   "metadata": {},
   "source": [
    "## Turning Predictions Into Something Workable"
   ]
  },
  {
   "cell_type": "code",
   "execution_count": 158,
   "id": "dd1c85bb",
   "metadata": {},
   "outputs": [],
   "source": [
    "test_pred = (moving_average(pred_bin.ravel(),30)>.5).astype(\"int32\")"
   ]
  },
  {
   "cell_type": "code",
   "execution_count": 159,
   "id": "c7949c85",
   "metadata": {},
   "outputs": [
    {
     "data": {
      "text/plain": [
       "array([0, 0, 0, 0, 0, 0, 0, 0, 0, 0])"
      ]
     },
     "execution_count": 159,
     "metadata": {},
     "output_type": "execute_result"
    }
   ],
   "source": [
    "test_pred[:10]"
   ]
  },
  {
   "cell_type": "code",
   "execution_count": 160,
   "id": "9e70e8ad",
   "metadata": {},
   "outputs": [],
   "source": [
    "count = 0\n",
    "times = []\n",
    "for i in range(0,len(test_pred)):\n",
    "    if test_pred[i] == 1:\n",
    "        times.append(i)"
   ]
  },
  {
   "cell_type": "code",
   "execution_count": 161,
   "id": "729d22b4",
   "metadata": {},
   "outputs": [
    {
     "data": {
      "text/plain": [
       "[301, 302, 303, 304, 305, 306, 307, 308, 309, 310]"
      ]
     },
     "execution_count": 161,
     "metadata": {},
     "output_type": "execute_result"
    }
   ],
   "source": [
    "times[:10]"
   ]
  },
  {
   "cell_type": "code",
   "execution_count": 162,
   "id": "9035c85b",
   "metadata": {},
   "outputs": [
    {
     "data": {
      "text/plain": [
       "[(301, 1072),\n",
       " (1487, 2471),\n",
       " (2508, 2522),\n",
       " (2982, 4128),\n",
       " (4237, 4274),\n",
       " (4754, 4792),\n",
       " (4954, 5031),\n",
       " (5049, 5142),\n",
       " (5175, 5267),\n",
       " (5704, 5755),\n",
       " (5796, 5831),\n",
       " (5865, 5905),\n",
       " (5958, 6021)]"
      ]
     },
     "execution_count": 162,
     "metadata": {},
     "output_type": "execute_result"
    }
   ],
   "source": [
    "count = 0\n",
    "start_stop = []\n",
    "for i in range(0,len(times)-1):\n",
    "    if times[i] == times[i+1]-1:\n",
    "        count = count + 1\n",
    "    else:\n",
    "        start_stop.append((times[i]-count,times[i]))\n",
    "        count = 0 \n",
    "start_stop"
   ]
  },
  {
   "cell_type": "markdown",
   "id": "541a3581",
   "metadata": {},
   "source": [
    "So the start and stop times are much more readable, but game play within a couple of minutes shouldn't be in different groups"
   ]
  },
  {
   "cell_type": "code",
   "execution_count": 163,
   "id": "ed7417d3",
   "metadata": {
    "scrolled": false
   },
   "outputs": [
    {
     "data": {
      "text/plain": [
       "[(301, 1072),\n",
       " (1487, 2522),\n",
       " (2982, 4128),\n",
       " (4237, 4274),\n",
       " (4754, 4792),\n",
       " (4954, 5267),\n",
       " (5704, 6021)]"
      ]
     },
     "execution_count": 163,
     "metadata": {},
     "output_type": "execute_result"
    }
   ],
   "source": [
    "reduced = [start_stop[0]]\n",
    "for t in start_stop:\n",
    "    if t[0] - reduced[-1][1] < 60:\n",
    "        reduced[-1] = (reduced[-1][0],t[1])\n",
    "    else:\n",
    "        reduced.append(t)\n",
    "reduced"
   ]
  },
  {
   "cell_type": "markdown",
   "id": "eda331e6",
   "metadata": {},
   "source": [
    "Looking up above we are doing much better, but we might have a clip with tiny length, so lets make a section of code that clears anything less than 60 seconds (highlight video length)"
   ]
  },
  {
   "cell_type": "code",
   "execution_count": 165,
   "id": "193b6865",
   "metadata": {},
   "outputs": [
    {
     "data": {
      "text/plain": [
       "[(301, 1072), (1487, 2522), (2982, 4128), (4954, 5267), (5704, 6021)]"
      ]
     },
     "execution_count": 165,
     "metadata": {},
     "output_type": "execute_result"
    }
   ],
   "source": [
    "final_time = []\n",
    "for item in reduced:\n",
    "    if item[1]-item[0] > 60:\n",
    "        final_time.append(item)\n",
    "final_time"
   ]
  },
  {
   "cell_type": "markdown",
   "id": "face9b4a",
   "metadata": {},
   "source": [
    "## Writting Out Movie"
   ]
  },
  {
   "cell_type": "code",
   "execution_count": 151,
   "id": "ddca8fcf",
   "metadata": {},
   "outputs": [
    {
     "name": "stdout",
     "output_type": "stream",
     "text": [
      "Moviepy - Building video test3.mp4.\n",
      "MoviePy - Writing audio in test3TEMP_MPY_wvf_snd.mp3\n"
     ]
    },
    {
     "name": "stderr",
     "output_type": "stream",
     "text": [
      "                                                                                                                       \r"
     ]
    },
    {
     "name": "stdout",
     "output_type": "stream",
     "text": [
      "MoviePy - Done.\n",
      "Moviepy - Writing video test3.mp4\n",
      "\n"
     ]
    },
    {
     "name": "stderr",
     "output_type": "stream",
     "text": [
      "                                                                                                                       \r"
     ]
    },
    {
     "name": "stdout",
     "output_type": "stream",
     "text": [
      "Moviepy - Done !\n",
      "Moviepy - video ready test3.mp4\n"
     ]
    }
   ],
   "source": [
    "clip = VideoFileClip(videoFile)\n",
    "final = concatenate([clip.subclip(max(final_time[i][0]-30,0), min(final_time[i][1]+30,clip.duration)) for i in range(0,len(final_time))])\n",
    "final.to_videofile('test3.mp4')"
   ]
  },
  {
   "cell_type": "markdown",
   "id": "d7e1ac28",
   "metadata": {},
   "source": [
    "## Next Steps\n",
    "\n",
    "~~1) Setup image generator for the predictions. Right now this takes an ungodly amount of ram~~\n",
    "\n",
    "2) Make a callout for youtube.dl to run everything from this one notebook\n",
    "\n",
    "3) Add more trainning Data\n",
    "\n",
    "4) Increase the number of Epochs for the CNN\n",
    "\n",
    "5) Add in layer graphics\n",
    "\n",
    "6) Add higher weights for not gameplay time"
   ]
  },
  {
   "cell_type": "code",
   "execution_count": null,
   "id": "ff1263a2",
   "metadata": {},
   "outputs": [],
   "source": []
  }
 ],
 "metadata": {
  "kernelspec": {
   "display_name": "Python 3 (ipykernel)",
   "language": "python",
   "name": "python3"
  },
  "language_info": {
   "codemirror_mode": {
    "name": "ipython",
    "version": 3
   },
   "file_extension": ".py",
   "mimetype": "text/x-python",
   "name": "python",
   "nbconvert_exporter": "python",
   "pygments_lexer": "ipython3",
   "version": "3.9.6"
  }
 },
 "nbformat": 4,
 "nbformat_minor": 5
}
