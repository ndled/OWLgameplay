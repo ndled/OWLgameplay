{
 "cells": [
  {
   "cell_type": "markdown",
   "id": "e1f0ccc2",
   "metadata": {},
   "source": [
    "## Intro"
   ]
  },
  {
   "cell_type": "markdown",
   "id": "7b76c757",
   "metadata": {},
   "source": [
    "This is a silly project that started with me and my brothers watching overwatch league matches and complaining about how terrible the casters are at filling time. I was looking for a new data science personal project and figured why not try and solve our problem with machine learning. In this notebook, I've written a convolutiuon neurel network to identify gameplay and skip all other parts of the match. It actually works pretty well. [here](https://www.ndled.us/stats/2021/08/06/CV-OWL.html) is a link to me rambling about my process for the first version I put up on github\n",
    "\n",
    "Things I read while doing this\n",
    "\n",
    "1) http://zulko.github.io/blog/2014/07/04/automatic-soccer-highlights-compilations-with-python/\n",
    "\n",
    "2) https://www.udemy.com/course/machinelearning/learn/lecture/6761136\n",
    "\n",
    "3) https://www.toptal.com/machine-learning/machine-learning-video-analysis\n",
    "\n",
    "4) https://www.analyticsvidhya.com/blog/2018/09/deep-learning-video-classification-python/\n",
    "\n",
    "5) https://machinelearningmastery.com/how-to-visualize-filters-and-feature-maps-in-convolutional-neural-networks/\n"
   ]
  },
  {
   "cell_type": "code",
   "execution_count": 1,
   "id": "20860782",
   "metadata": {},
   "outputs": [],
   "source": [
    "import cv2\n",
    "import math\n",
    "import pandas as pd\n",
    "import numpy as np\n",
    "from keras.utils import np_utils\n",
    "from skimage.transform import resize\n",
    "import tensorflow as tf\n",
    "from moviepy.editor import *\n",
    "from keras.preprocessing.image import ImageDataGenerator\n",
    "import subprocess\n",
    "import matplotlib.pyplot as plt\n",
    "import youtube_dl"
   ]
  },
  {
   "cell_type": "code",
   "execution_count": 2,
   "id": "fbda25d7",
   "metadata": {},
   "outputs": [],
   "source": [
    "def download(url):\n",
    "    ydl_opts = {}\n",
    "    with youtube_dl.YoutubeDL(ydl_opts) as ydl:\n",
    "        info = ydl.extract_info(url, download= True)\n",
    "        filename = ydl.prepare_filename(info)\n",
    "    return filename"
   ]
  },
  {
   "cell_type": "code",
   "execution_count": 10,
   "id": "7c7a13e1",
   "metadata": {},
   "outputs": [],
   "source": [
    "def videoCut(videoFile, imgname):\n",
    "    count = 0\n",
    "    cap = cv2.VideoCapture(videoFile)\n",
    "    frameRate = cap.get(5)\n",
    "    while(cap.isOpened()):\n",
    "        frameId = cap.get(1)\n",
    "        ret, frame = cap.read()\n",
    "        if (ret != True):\n",
    "            break\n",
    "        if (frameId % math.floor(frameRate) == 0):\n",
    "            filename =\"\" + imgname + str(count).zfill(5) + \".jpg\";count+=1\n",
    "            cv2.imwrite(filename, frame)\n",
    "    cap.release()\n",
    "    print (\"Done!\")"
   ]
  },
  {
   "cell_type": "markdown",
   "id": "cc05619d",
   "metadata": {},
   "source": [
    "## Cutting Up Train Videos Into Frames"
   ]
  },
  {
   "cell_type": "code",
   "execution_count": 11,
   "id": "3bc3b450",
   "metadata": {},
   "outputs": [
    {
     "name": "stdout",
     "output_type": "stream",
     "text": [
      "Done!\n"
     ]
    }
   ],
   "source": [
    "# videoCut('@Chengdu Hunters vs @Dallas Fuel _ Summer Showdown Tournament _ Day 1-5kVvsQYk2I0.mp4',\n",
    "#          'train/1train_')\n",
    "# videoCut('Losers Semi-Final _ @ATL Reign   vs   @Dallas Fuel _ Summer Showdown Tournament _ Day 2-RKKXYefOz5w.mp4',\n",
    "#          'train/2train_')\n",
    "# videoCut('Winners Finals _ @Chengdu Hunters vs  @Shanghai Dragons  _ Summer Showdown Tournament _ Day 2-hyCOml7JcrA.mp4',\n",
    "#          'train/3train_')\n",
    "# videoCut('Losers Finals _ @Chengdu Hunters vs @Dallas Fuel  _ Summer Showdown Tournament _ Day 2-dFcIIRQLbpo.mp4',\n",
    "#          'train/4train_')"
   ]
  },
  {
   "cell_type": "markdown",
   "id": "6d2c93f3",
   "metadata": {},
   "source": [
    "From here, I manually sorted as gameplay vs not gameplay"
   ]
  },
  {
   "cell_type": "markdown",
   "id": "500c50be",
   "metadata": {},
   "source": [
    "## Loading In Video to Process"
   ]
  },
  {
   "cell_type": "code",
   "execution_count": 7,
   "id": "798a82a9",
   "metadata": {},
   "outputs": [
    {
     "name": "stdout",
     "output_type": "stream",
     "text": [
      "[youtube] 0aAqO0F9I88: Downloading webpage\n",
      "[download] Destination: @Dallas Fuel vs @Paris Eternal _ Countdown Cup Qualifiers _ Week 1 Day 1 — West-0aAqO0F9I88.mp4\n",
      "[download] 100% of 2.52GiB in 15:31                     \n"
     ]
    }
   ],
   "source": [
    "url = \"https://youtu.be/0aAqO0F9I88\"\n",
    "filename = download(url)"
   ]
  },
  {
   "cell_type": "code",
   "execution_count": 11,
   "id": "f4e84d78",
   "metadata": {},
   "outputs": [
    {
     "name": "stdout",
     "output_type": "stream",
     "text": [
      "Done!\n"
     ]
    }
   ],
   "source": [
    "videoCut(filename,'pred/images/5train_')"
   ]
  },
  {
   "cell_type": "markdown",
   "id": "1415e992",
   "metadata": {},
   "source": [
    "## Data Preprocessing"
   ]
  },
  {
   "cell_type": "code",
   "execution_count": 12,
   "id": "a3fe72b2",
   "metadata": {},
   "outputs": [
    {
     "name": "stdout",
     "output_type": "stream",
     "text": [
      "Found 25250 images belonging to 2 classes.\n",
      "Found 6311 images belonging to 2 classes.\n"
     ]
    }
   ],
   "source": [
    "image_generator = ImageDataGenerator(rescale = 1./255,\n",
    "                                   validation_split=.2,\n",
    "                                   shear_range = 0.2,\n",
    "                                   zoom_range = 0.2,\n",
    "                                   horizontal_flip = True)\n",
    "training_set = image_generator.flow_from_directory(batch_size=32,\n",
    "                                                 directory='train',\n",
    "                                                 shuffle=True,\n",
    "                                                 target_size=(64, 64), \n",
    "                                                 subset=\"training\",\n",
    "                                                 class_mode='binary')\n",
    "test_set = image_generator.flow_from_directory(batch_size=32,\n",
    "                                                 directory='train',\n",
    "                                                 shuffle=True,\n",
    "                                                 target_size=(64, 64), \n",
    "                                                 subset=\"validation\",\n",
    "                                                 class_mode='binary')"
   ]
  },
  {
   "cell_type": "markdown",
   "id": "42643e83",
   "metadata": {},
   "source": [
    "## Building the CNN"
   ]
  },
  {
   "cell_type": "code",
   "execution_count": 13,
   "id": "20347387",
   "metadata": {},
   "outputs": [],
   "source": [
    "cnn = tf.keras.models.Sequential()\n",
    "cnn.add(tf.keras.layers.Conv2D(filters=32, kernel_size=3, activation='relu', input_shape=[64, 64, 3]))\n",
    "cnn.add(tf.keras.layers.MaxPool2D(pool_size=2, strides=2))\n",
    "cnn.add(tf.keras.layers.Conv2D(filters=32, kernel_size=3, activation='relu'))\n",
    "cnn.add(tf.keras.layers.MaxPool2D(pool_size=2, strides=2))\n",
    "cnn.add(tf.keras.layers.Flatten())\n",
    "cnn.add(tf.keras.layers.Dense(units=128, activation='relu'))\n",
    "cnn.add(tf.keras.layers.Dense(units=1, activation='sigmoid'))"
   ]
  },
  {
   "cell_type": "markdown",
   "id": "b711f301",
   "metadata": {},
   "source": [
    "## Training the CNN"
   ]
  },
  {
   "cell_type": "code",
   "execution_count": 16,
   "id": "96cd737a",
   "metadata": {},
   "outputs": [],
   "source": [
    "cnn.compile(optimizer = 'adam',\n",
    "            loss = 'binary_crossentropy',\n",
    "            metrics = [tf.keras.metrics.BinaryAccuracy(),\n",
    "                       tf.keras.metrics.FalseNegatives(),\n",
    "                       tf.keras.metrics.FalsePositives()])"
   ]
  },
  {
   "cell_type": "code",
   "execution_count": null,
   "id": "75ad1630",
   "metadata": {},
   "outputs": [],
   "source": [
    "from keras.callbacks import ModelCheckpoint\n",
    "filepath=\"weights.best.hdf5\"\n",
    "checkpoint = ModelCheckpoint(filepath, monitor='val_loss', verbose=1, save_best_only=True, mode='min')\n",
    "callbacks_list = [checkpoint]      # model check pointing based on validation loss"
   ]
  },
  {
   "cell_type": "code",
   "execution_count": 20,
   "id": "55d8563b",
   "metadata": {},
   "outputs": [
    {
     "name": "stdout",
     "output_type": "stream",
     "text": [
      "Epoch 1/20\n",
      "790/790 [==============================] - 297s 375ms/step - loss: 0.0219 - binary_accuracy: 0.9941 - false_negatives_2: 74.0000 - false_positives: 74.0000 - val_loss: 0.0440 - val_binary_accuracy: 0.9959 - val_false_negatives_2: 3.0000 - val_false_positives: 23.0000\n",
      "Epoch 2/20\n",
      "790/790 [==============================] - 271s 343ms/step - loss: 0.0193 - binary_accuracy: 0.9940 - false_negatives_2: 78.0000 - false_positives: 74.0000 - val_loss: 0.0538 - val_binary_accuracy: 0.9903 - val_false_negatives_2: 1.0000 - val_false_positives: 60.0000\n",
      "Epoch 3/20\n",
      "790/790 [==============================] - 271s 343ms/step - loss: 0.0188 - binary_accuracy: 0.9940 - false_negatives_2: 79.0000 - false_positives: 73.0000 - val_loss: 0.0392 - val_binary_accuracy: 0.9941 - val_false_negatives_2: 5.0000 - val_false_positives: 32.0000\n",
      "Epoch 4/20\n",
      "790/790 [==============================] - 271s 343ms/step - loss: 0.0156 - binary_accuracy: 0.9951 - false_negatives_2: 56.0000 - false_positives: 68.0000 - val_loss: 0.0479 - val_binary_accuracy: 0.9930 - val_false_negatives_2: 4.0000 - val_false_positives: 40.0000\n",
      "Epoch 5/20\n",
      "790/790 [==============================] - 271s 343ms/step - loss: 0.0162 - binary_accuracy: 0.9952 - false_negatives_2: 58.0000 - false_positives: 64.0000 - val_loss: 0.0302 - val_binary_accuracy: 0.9948 - val_false_negatives_2: 9.0000 - val_false_positives: 24.0000\n",
      "Epoch 6/20\n",
      "790/790 [==============================] - 271s 343ms/step - loss: 0.0170 - binary_accuracy: 0.9951 - false_negatives_2: 66.0000 - false_positives: 58.0000 - val_loss: 0.0554 - val_binary_accuracy: 0.9927 - val_false_negatives_2: 2.0000 - val_false_positives: 44.0000\n",
      "Epoch 7/20\n",
      "790/790 [==============================] - 271s 344ms/step - loss: 0.0145 - binary_accuracy: 0.9954 - false_negatives_2: 59.0000 - false_positives: 58.0000 - val_loss: 0.0428 - val_binary_accuracy: 0.9930 - val_false_negatives_2: 14.0000 - val_false_positives: 30.0000\n",
      "Epoch 8/20\n",
      "790/790 [==============================] - 271s 343ms/step - loss: 0.0147 - binary_accuracy: 0.9951 - false_negatives_2: 63.0000 - false_positives: 60.0000 - val_loss: 0.0468 - val_binary_accuracy: 0.9948 - val_false_negatives_2: 3.0000 - val_false_positives: 30.0000\n",
      "Epoch 9/20\n",
      "790/790 [==============================] - 271s 342ms/step - loss: 0.0118 - binary_accuracy: 0.9960 - false_negatives_2: 53.0000 - false_positives: 49.0000 - val_loss: 0.0380 - val_binary_accuracy: 0.9940 - val_false_negatives_2: 13.0000 - val_false_positives: 25.0000\n",
      "Epoch 10/20\n",
      "790/790 [==============================] - 271s 343ms/step - loss: 0.0138 - binary_accuracy: 0.9960 - false_negatives_2: 53.0000 - false_positives: 49.0000 - val_loss: 0.0572 - val_binary_accuracy: 0.9941 - val_false_negatives_2: 1.0000 - val_false_positives: 36.0000\n",
      "Epoch 11/20\n",
      "790/790 [==============================] - 271s 343ms/step - loss: 0.0102 - binary_accuracy: 0.9966 - false_negatives_2: 47.0000 - false_positives: 39.0000 - val_loss: 0.0866 - val_binary_accuracy: 0.9916 - val_false_negatives_2: 3.0000 - val_false_positives: 50.0000\n",
      "Epoch 12/20\n",
      "790/790 [==============================] - 271s 343ms/step - loss: 0.0110 - binary_accuracy: 0.9966 - false_negatives_2: 44.0000 - false_positives: 41.0000 - val_loss: 0.0499 - val_binary_accuracy: 0.9957 - val_false_negatives_2: 4.0000 - val_false_positives: 23.0000\n",
      "Epoch 13/20\n",
      "790/790 [==============================] - 271s 343ms/step - loss: 0.0105 - binary_accuracy: 0.9968 - false_negatives_2: 37.0000 - false_positives: 45.0000 - val_loss: 0.0585 - val_binary_accuracy: 0.9945 - val_false_negatives_2: 1.0000 - val_false_positives: 34.0000\n",
      "Epoch 14/20\n",
      "790/790 [==============================] - 272s 345ms/step - loss: 0.0105 - binary_accuracy: 0.9967 - false_negatives_2: 42.0000 - false_positives: 42.0000 - val_loss: 0.0506 - val_binary_accuracy: 0.9952 - val_false_negatives_2: 6.0000 - val_false_positives: 24.0000\n",
      "Epoch 15/20\n",
      "790/790 [==============================] - 272s 345ms/step - loss: 0.0075 - binary_accuracy: 0.9976 - false_negatives_2: 32.0000 - false_positives: 28.0000 - val_loss: 0.0563 - val_binary_accuracy: 0.9940 - val_false_negatives_2: 8.0000 - val_false_positives: 30.0000\n",
      "Epoch 16/20\n",
      "790/790 [==============================] - 273s 346ms/step - loss: 0.0085 - binary_accuracy: 0.9974 - false_negatives_2: 27.0000 - false_positives: 38.0000 - val_loss: 0.0438 - val_binary_accuracy: 0.9927 - val_false_negatives_2: 9.0000 - val_false_positives: 37.0000\n",
      "Epoch 17/20\n",
      "790/790 [==============================] - 277s 350ms/step - loss: 0.0095 - binary_accuracy: 0.9969 - false_negatives_2: 44.0000 - false_positives: 35.0000 - val_loss: 0.0724 - val_binary_accuracy: 0.9933 - val_false_negatives_2: 3.0000 - val_false_positives: 39.0000\n",
      "Epoch 18/20\n",
      "790/790 [==============================] - 275s 349ms/step - loss: 0.0067 - binary_accuracy: 0.9976 - false_negatives_2: 26.0000 - false_positives: 34.0000 - val_loss: 0.0622 - val_binary_accuracy: 0.9954 - val_false_negatives_2: 1.0000 - val_false_positives: 28.0000\n",
      "Epoch 19/20\n",
      "790/790 [==============================] - 273s 345ms/step - loss: 0.0084 - binary_accuracy: 0.9971 - false_negatives_2: 33.0000 - false_positives: 41.0000 - val_loss: 0.0788 - val_binary_accuracy: 0.9943 - val_false_negatives_2: 5.0000 - val_false_positives: 31.0000\n",
      "Epoch 20/20\n",
      "790/790 [==============================] - 272s 345ms/step - loss: 0.0062 - binary_accuracy: 0.9979 - false_negatives_2: 24.0000 - false_positives: 28.0000 - val_loss: 0.0572 - val_binary_accuracy: 0.9956 - val_false_negatives_2: 6.0000 - val_false_positives: 22.0000\n"
     ]
    }
   ],
   "source": [
    "history = cnn.fit(x = training_set, validation_data = test_set, epochs = 20, batch_size = 32, callbacks=callbacks_list)"
   ]
  },
  {
   "cell_type": "code",
   "execution_count": 23,
   "id": "d18149ad",
   "metadata": {},
   "outputs": [],
   "source": [
    "def plot_metric(history, metric):\n",
    "    train_metrics = history.history[metric]\n",
    "    val_metrics = history.history['val_'+metric]\n",
    "    epochs = range(1, len(train_metrics) + 1)\n",
    "    plt.plot(epochs, train_metrics)\n",
    "    plt.plot(epochs, val_metrics)\n",
    "    plt.title('Training and validation '+ metric)\n",
    "    plt.xlabel(\"Epochs\")\n",
    "    plt.ylabel(metric)\n",
    "    plt.legend([\"train_\"+metric, 'val_'+metric])\n",
    "    plt.show()"
   ]
  },
  {
   "cell_type": "code",
   "execution_count": 27,
   "id": "c1cfeb65",
   "metadata": {},
   "outputs": [
    {
     "data": {
      "image/png": "[encoded data removed]",
      "text/plain": [
       "<Figure size 432x288 with 1 Axes>"
      ]
     },
     "metadata": {
      "needs_background": "light"
     },
     "output_type": "display_data"
    }
   ],
   "source": [
    "plot_metric(history, 'binary_accuracy')"
   ]
  },
  {
   "cell_type": "markdown",
   "id": "e4ed034d",
   "metadata": {},
   "source": [
    "### Saving/Loading the model"
   ]
  },
  {
   "cell_type": "code",
   "execution_count": 30,
   "id": "43dbaf84",
   "metadata": {},
   "outputs": [],
   "source": [
    "# cnn.save_weights(\"model.h5\")"
   ]
  },
  {
   "cell_type": "code",
   "execution_count": 170,
   "id": "1c5870ec",
   "metadata": {},
   "outputs": [],
   "source": [
    "# cnn.load_weights(\"model.h5\")"
   ]
  },
  {
   "cell_type": "markdown",
   "id": "d318c1b1",
   "metadata": {},
   "source": [
    "## Preprocessing Test Data"
   ]
  },
  {
   "cell_type": "markdown",
   "id": "40393288",
   "metadata": {},
   "source": [
    "going to try and use flow from directory"
   ]
  },
  {
   "cell_type": "code",
   "execution_count": 28,
   "id": "97693297",
   "metadata": {},
   "outputs": [
    {
     "name": "stdout",
     "output_type": "stream",
     "text": [
      "Found 9397 images belonging to 1 classes.\n"
     ]
    }
   ],
   "source": [
    "image_generator2 = ImageDataGenerator(rescale = 1./255)\n",
    "\n",
    "test_generator = image_generator2.flow_from_directory(batch_size=1,\n",
    "                                                 directory='pred/',\n",
    "                                                 target_size=(64, 64), \n",
    "                                                 class_mode=None,\n",
    "                                                 shuffle = False)"
   ]
  },
  {
   "cell_type": "markdown",
   "id": "0db752db",
   "metadata": {},
   "source": [
    "## Predictions"
   ]
  },
  {
   "cell_type": "code",
   "execution_count": 29,
   "id": "9aad29a1",
   "metadata": {},
   "outputs": [
    {
     "name": "stdout",
     "output_type": "stream",
     "text": [
      "9397/9397 [==============================] - 127s 13ms/step\n"
     ]
    }
   ],
   "source": [
    "test_generator.reset()\n",
    "pred_probs=cnn.predict_generator(test_generator, steps=len(test_generator), verbose=1)"
   ]
  },
  {
   "cell_type": "code",
   "execution_count": 31,
   "id": "0c38f84f",
   "metadata": {},
   "outputs": [
    {
     "data": {
      "text/plain": [
       "array([[3.9054072e-11],\n",
       "       [5.7355340e-12],\n",
       "       [3.9984481e-11],\n",
       "       [5.5852523e-10],\n",
       "       [4.1369162e-11],\n",
       "       [1.2960222e-16],\n",
       "       [2.6104408e-10],\n",
       "       [5.0535457e-12],\n",
       "       [1.7648562e-08],\n",
       "       [1.7847412e-07]], dtype=float32)"
      ]
     },
     "execution_count": 31,
     "metadata": {},
     "output_type": "execute_result"
    }
   ],
   "source": [
    "pred_probs[:10]"
   ]
  },
  {
   "cell_type": "code",
   "execution_count": 43,
   "id": "832e7a63",
   "metadata": {},
   "outputs": [],
   "source": [
    "pred_bin=(pred_probs>0.5).astype(\"int32\")"
   ]
  },
  {
   "cell_type": "code",
   "execution_count": 44,
   "id": "2c520c96",
   "metadata": {},
   "outputs": [
    {
     "data": {
      "text/plain": [
       "array([5324])"
      ]
     },
     "execution_count": 44,
     "metadata": {},
     "output_type": "execute_result"
    }
   ],
   "source": [
    "sum(pred_bin)"
   ]
  },
  {
   "cell_type": "markdown",
   "id": "914bdc5c",
   "metadata": {},
   "source": [
    "So, I want some sort of averaging here. Rolling average "
   ]
  },
  {
   "cell_type": "code",
   "execution_count": 34,
   "id": "293f91eb",
   "metadata": {},
   "outputs": [],
   "source": [
    "def moving_average(x, w):\n",
    "    return np.convolve(x, np.ones(w), 'valid') / w"
   ]
  },
  {
   "cell_type": "markdown",
   "id": "59f13a10",
   "metadata": {},
   "source": [
    "## Turning Predictions Into Something Workable"
   ]
  },
  {
   "cell_type": "code",
   "execution_count": 45,
   "id": "dd1c85bb",
   "metadata": {},
   "outputs": [],
   "source": [
    "test_pred = (moving_average(pred_bin.ravel(),60)>.5).astype(\"int32\")"
   ]
  },
  {
   "cell_type": "code",
   "execution_count": 46,
   "id": "f52b5710",
   "metadata": {},
   "outputs": [
    {
     "data": {
      "text/plain": [
       "array([0, 0, 0, 0, 0, 0, 0, 0, 0, 0])"
      ]
     },
     "execution_count": 46,
     "metadata": {},
     "output_type": "execute_result"
    }
   ],
   "source": [
    "test_pred[:10]"
   ]
  },
  {
   "cell_type": "code",
   "execution_count": 47,
   "id": "9e70e8ad",
   "metadata": {},
   "outputs": [],
   "source": [
    "count = 0\n",
    "times = []\n",
    "for i in range(0,len(test_pred)):\n",
    "    if test_pred[i] == 1:\n",
    "        times.append(i)"
   ]
  },
  {
   "cell_type": "code",
   "execution_count": 48,
   "id": "729d22b4",
   "metadata": {},
   "outputs": [
    {
     "data": {
      "text/plain": [
       "[242, 243, 244, 245, 246, 247, 248, 249, 250, 251]"
      ]
     },
     "execution_count": 48,
     "metadata": {},
     "output_type": "execute_result"
    }
   ],
   "source": [
    "times[:10]"
   ]
  },
  {
   "cell_type": "code",
   "execution_count": 49,
   "id": "9035c85b",
   "metadata": {},
   "outputs": [
    {
     "data": {
      "text/plain": [
       "[(242, 1307),\n",
       " (1843, 2322),\n",
       " (2338, 2733),\n",
       " (2817, 2819),\n",
       " (2821, 2822),\n",
       " (2824, 3085),\n",
       " (3235, 3498),\n",
       " (3533, 3664),\n",
       " (4180, 5168),\n",
       " (5760, 5812),\n",
       " (5850, 6721),\n",
       " (7139, 7273),\n",
       " (7460, 8355),\n",
       " (8479, 8500),\n",
       " (9191, 9204)]"
      ]
     },
     "execution_count": 49,
     "metadata": {},
     "output_type": "execute_result"
    }
   ],
   "source": [
    "count = 0\n",
    "start_stop = []\n",
    "for i in range(0,len(times)-1):\n",
    "    if times[i] == times[i+1]-1:\n",
    "        count = count + 1\n",
    "    else:\n",
    "        start_stop.append((times[i]-count,times[i]))\n",
    "        count = 0 \n",
    "start_stop"
   ]
  },
  {
   "cell_type": "markdown",
   "id": "541a3581",
   "metadata": {},
   "source": [
    "So the start and stop times are much more readable, but game play within a couple of minutes shouldn't be in different groups"
   ]
  },
  {
   "cell_type": "code",
   "execution_count": 52,
   "id": "ed7417d3",
   "metadata": {
    "scrolled": false
   },
   "outputs": [
    {
     "data": {
      "text/plain": [
       "[(242, 1307),\n",
       " (1843, 3085),\n",
       " (3235, 3664),\n",
       " (4180, 5168),\n",
       " (5760, 6721),\n",
       " (7139, 7273),\n",
       " (7460, 8355),\n",
       " (8479, 8500),\n",
       " (9191, 9204)]"
      ]
     },
     "execution_count": 52,
     "metadata": {},
     "output_type": "execute_result"
    }
   ],
   "source": [
    "reduced = [start_stop[0]]\n",
    "for t in start_stop:\n",
    "    if t[0] - reduced[-1][1] < 120:\n",
    "        reduced[-1] = (reduced[-1][0],t[1])\n",
    "    else:\n",
    "        reduced.append(t)\n",
    "reduced"
   ]
  },
  {
   "cell_type": "markdown",
   "id": "eda331e6",
   "metadata": {},
   "source": [
    "Looking up above we are doing much better, but we might have a clip with tiny length, so lets make a section of code that clears anything less than 60 seconds (highlight video length)"
   ]
  },
  {
   "cell_type": "code",
   "execution_count": 53,
   "id": "193b6865",
   "metadata": {},
   "outputs": [
    {
     "data": {
      "text/plain": [
       "[(242, 1307),\n",
       " (1843, 3085),\n",
       " (3235, 3664),\n",
       " (4180, 5168),\n",
       " (5760, 6721),\n",
       " (7139, 7273),\n",
       " (7460, 8355)]"
      ]
     },
     "execution_count": 53,
     "metadata": {},
     "output_type": "execute_result"
    }
   ],
   "source": [
    "final_time = []\n",
    "for item in reduced:\n",
    "    if item[1]-item[0] > 120:\n",
    "        final_time.append(item)\n",
    "final_time"
   ]
  },
  {
   "cell_type": "markdown",
   "id": "face9b4a",
   "metadata": {},
   "source": [
    "## Writting Out Movie"
   ]
  },
  {
   "cell_type": "code",
   "execution_count": 141,
   "id": "62f0dd61",
   "metadata": {},
   "outputs": [],
   "source": [
    "def Cut(video,select_text):\n",
    "    command = \"ffmpeg -i \\\"{video}\\\" -vf \\\"select={select_text}, setpts=N/FRAME_RATE/TB\\\" -af \\\"aselect={select_text}, asetpts=N/SR/TB\\\" out.mp4\".format(video=video, select_text=select_text)\n",
    "    subprocess.call(command,shell=True)\n",
    "    print(command)\n"
   ]
  },
  {
   "cell_type": "code",
   "execution_count": null,
   "id": "ffe89f6a",
   "metadata": {},
   "outputs": [],
   "source": [
    "def ffmpeg_time_format(final_times):\n",
    "    select_text = \"'\"\n",
    "    for i in range(0,len(final_time)):\n",
    "        select_text = select_text+\"between(t,\"+str(final_time[i][0]-30)+\",\"+str(final_time[i][1]+30)+\")\"\n",
    "        if i < len(final_time)-1:\n",
    "            select_text = select_text + \"+\"\n",
    "    select_text = select_text + \"'\"\n",
    "    return select_text"
   ]
  },
  {
   "cell_type": "code",
   "execution_count": 143,
   "id": "36072ecc",
   "metadata": {},
   "outputs": [
    {
     "name": "stdout",
     "output_type": "stream",
     "text": [
      "ffmpeg -i \"@Dallas Fuel vs @Paris Eternal _ Countdown Cup Qualifiers _ Week 1 Day 1 — West-0aAqO0F9I88.mp4\" -vf \"select='between(t,212,1337)+between(t,1813,3115)+between(t,3205,3694)+between(t,4150,5198)+between(t,5730,6751)+between(t,7109,7303)+between(t,7430,8385)', setpts=N/FRAME_RATE/TB\" -af \"aselect='between(t,212,1337)+between(t,1813,3115)+between(t,3205,3694)+between(t,4150,5198)+between(t,5730,6751)+between(t,7109,7303)+between(t,7430,8385)', asetpts=N/SR/TB\" out.mp4\n"
     ]
    }
   ],
   "source": [
    "Cut(filename,select_text)"
   ]
  },
  {
   "cell_type": "markdown",
   "id": "5c58f6cc",
   "metadata": {},
   "source": [
    "## Depricated - Moviepy method"
   ]
  },
  {
   "cell_type": "code",
   "execution_count": 151,
   "id": "ddca8fcf",
   "metadata": {},
   "outputs": [
    {
     "name": "stdout",
     "output_type": "stream",
     "text": [
      "Moviepy - Building video test3.mp4.\n",
      "MoviePy - Writing audio in test3TEMP_MPY_wvf_snd.mp3\n"
     ]
    },
    {
     "name": "stderr",
     "output_type": "stream",
     "text": [
      "                                                                                                                       \r"
     ]
    },
    {
     "name": "stdout",
     "output_type": "stream",
     "text": [
      "MoviePy - Done.\n",
      "Moviepy - Writing video test3.mp4\n",
      "\n"
     ]
    },
    {
     "name": "stderr",
     "output_type": "stream",
     "text": [
      "                                                                                                                       \r"
     ]
    },
    {
     "name": "stdout",
     "output_type": "stream",
     "text": [
      "Moviepy - Done !\n",
      "Moviepy - video ready test3.mp4\n"
     ]
    }
   ],
   "source": [
    "# clip = VideoFileClip(videoFile)\n",
    "# final = concatenate([clip.subclip(max(final_time[i][0]-30,0), min(final_time[i][1]+30,clip.duration)) for i in range(0,len(final_time))])\n",
    "# final.to_videofile('test3.mp4')"
   ]
  },
  {
   "cell_type": "markdown",
   "id": "d7e1ac28",
   "metadata": {},
   "source": [
    "## Next Steps\n",
    "\n",
    "~~1) Setup image generator for the predictions. Right now this takes an ungodly amount of ram~~\n",
    "\n",
    "~~2) Make a callout for youtube.dl to run everything from this one notebook~~\n",
    "\n",
    "~~3) Add more trainning Data~~\n",
    "\n",
    "~~4) Increase the number of Epochs for the CNN - once I stop adding to the training data~~\n",
    "\n",
    "5) Add in layer graphics\n",
    "\n",
    "~~6) Add higher weights for not gameplay time~~\n",
    "\n",
    "7) Build a progress bar for cutting up the images\n",
    "\n",
    "~~9) Switch over to ffmpeg, maybe, Working on this now and I'm not getting a time advantage.~~\n",
    "\n",
    "10) Work on optimizing speed fpr ffmpeg, accept some lower quality"
   ]
  },
  {
   "cell_type": "code",
   "execution_count": null,
   "id": "ff1263a2",
   "metadata": {},
   "outputs": [],
   "source": []
  }
 ],
 "metadata": {
  "kernelspec": {
   "display_name": "Python 3 (ipykernel)",
   "language": "python",
   "name": "python3"
  },
  "language_info": {
   "codemirror_mode": {
    "name": "ipython",
    "version": 3
   },
   "file_extension": ".py",
   "mimetype": "text/x-python",
   "name": "python",
   "nbconvert_exporter": "python",
   "pygments_lexer": "ipython3",
   "version": "3.9.6"
  }
 },
 "nbformat": 4,
 "nbformat_minor": 5
}
