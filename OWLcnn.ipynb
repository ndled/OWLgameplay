{
 "cells": [
  {
   "cell_type": "markdown",
   "id": "e1f0ccc2",
   "metadata": {},
   "source": [
    "## Intro"
   ]
  },
  {
   "cell_type": "markdown",
   "id": "7b76c757",
   "metadata": {},
   "source": [
    "This is a silly project that started with me and my brothers watching overwatch league matches and complaining about how terrible the casters are at filling time. I was looking for a new data science personal project and figured why not try and solve our problem with machine learning. In this notebook, I've written a convolutiuon neurel network to identify gameplay and skip all other parts of the match. It actually works pretty well. [here](https://www.ndled.us/stats/2021/08/06/CV-OWL.html) is a link to me rambling about my process for the first version I put up on github\n",
    "\n",
    "Things I read while doing this\n",
    "\n",
    "1) http://zulko.github.io/blog/2014/07/04/automatic-soccer-highlights-compilations-with-python/\n",
    "\n",
    "2) https://www.udemy.com/course/machinelearning/learn/lecture/6761136\n",
    "\n",
    "3) https://www.toptal.com/machine-learning/machine-learning-video-analysis\n",
    "\n",
    "4) https://www.analyticsvidhya.com/blog/2018/09/deep-learning-video-classification-python/\n",
    "\n",
    "5) https://machinelearningmastery.com/how-to-visualize-filters-and-feature-maps-in-convolutional-neural-networks/\n"
   ]
  },
  {
   "cell_type": "code",
   "execution_count": 1,
   "id": "20860782",
   "metadata": {},
   "outputs": [],
   "source": [
    "import cv2\n",
    "import math\n",
    "import pandas as pd\n",
    "import numpy as np\n",
    "from keras.utils import np_utils\n",
    "from skimage.transform import resize\n",
    "import tensorflow as tf\n",
    "from moviepy.editor import *\n",
    "from keras.preprocessing.image import ImageDataGenerator\n",
    "import subprocess\n",
    "import matplotlib.pyplot as plt\n",
    "import youtube_dl"
   ]
  },
  {
   "cell_type": "code",
   "execution_count": 2,
   "id": "b077b682",
   "metadata": {},
   "outputs": [],
   "source": [
    "def download(url):\n",
    "    ydl_opts = {'format': 'bestvideo[ext=mp4]+bestaudio/best'}\n",
    "    with youtube_dl.YoutubeDL(ydl_opts) as ydl:\n",
    "        info = ydl.extract_info(url, download= True)\n",
    "        filename = ydl.prepare_filename(info)\n",
    "    return filename"
   ]
  },
  {
   "cell_type": "code",
   "execution_count": 3,
   "id": "c60e254d",
   "metadata": {},
   "outputs": [],
   "source": [
    "def video_cut(videoFile, imgname):\n",
    "    count = 0\n",
    "    cap = cv2.VideoCapture(videoFile)\n",
    "    frameRate = cap.get(5)\n",
    "    while(cap.isOpened()):\n",
    "        frameId = cap.get(1)\n",
    "        ret, frame = cap.read()\n",
    "        if (ret != True):\n",
    "            break\n",
    "        if (frameId % math.floor(frameRate) == 0):\n",
    "            name =\"\" + imgname + str(count).zfill(5) + \".jpg\";count+=1\n",
    "            cv2.imwrite(name, frame)\n",
    "        print(\"working on frame \" + str(count), end='\\r')\n",
    "    cap.release()\n",
    "    print(\"\")\n",
    "    print (\"Done!\")"
   ]
  },
  {
   "cell_type": "markdown",
   "id": "cc05619d",
   "metadata": {},
   "source": [
    "## Cutting Up Train Videos Into Frames"
   ]
  },
  {
   "cell_type": "code",
   "execution_count": 4,
   "id": "e9fe2882",
   "metadata": {},
   "outputs": [],
   "source": [
    "# videoCut('@Chengdu Hunters vs @Dallas Fuel _ Summer Showdown Tournament _ Day 1-5kVvsQYk2I0.mp4',\n",
    "#          'train/1train_')\n",
    "# videoCut('Losers Semi-Final _ @ATL Reign   vs   @Dallas Fuel _ Summer Showdown Tournament _ Day 2-RKKXYefOz5w.mp4',\n",
    "#          'train/2train_')\n",
    "# videoCut('Winners Finals _ @Chengdu Hunters vs  @Shanghai Dragons  _ Summer Showdown Tournament _ Day 2-hyCOml7JcrA.mp4',\n",
    "#          'train/3train_')\n",
    "# videoCut('Losers Finals _ @Chengdu Hunters vs @Dallas Fuel  _ Summer Showdown Tournament _ Day 2-dFcIIRQLbpo.mp4',\n",
    "#          'train/4train_')"
   ]
  },
  {
   "cell_type": "markdown",
   "id": "6d2c93f3",
   "metadata": {},
   "source": [
    "From here, I manually sorted as gameplay vs not gameplay"
   ]
  },
  {
   "cell_type": "markdown",
   "id": "500c50be",
   "metadata": {},
   "source": [
    "## Loading In Video to Process"
   ]
  },
  {
   "cell_type": "code",
   "execution_count": 5,
   "id": "798a82a9",
   "metadata": {},
   "outputs": [
    {
     "name": "stdout",
     "output_type": "stream",
     "text": [
      "[youtube] Z9B5gMWuBrg: Downloading webpage\n",
      "[download] Destination: @Seoul Dynasty vs @Philadelphia Fusion  _ Countdown Cup Knockouts _ Week 3 Day 3 — East-Z9B5gMWuBrg.f299.mp4\n",
      "[download] 100% of 3.94GiB in 24:51                          \n",
      "[download] Destination: @Seoul Dynasty vs @Philadelphia Fusion  _ Countdown Cup Knockouts _ Week 3 Day 3 — East-Z9B5gMWuBrg.f140.m4a\n",
      "[download] 100% of 119.32MiB in 01:05                   \n",
      "[ffmpeg] Merging formats into \"@Seoul Dynasty vs @Philadelphia Fusion  _ Countdown Cup Knockouts _ Week 3 Day 3 — East-Z9B5gMWuBrg.mp4\"\n",
      "Deleting original file @Seoul Dynasty vs @Philadelphia Fusion  _ Countdown Cup Knockouts _ Week 3 Day 3 — East-Z9B5gMWuBrg.f299.mp4 (pass -k to keep)\n",
      "Deleting original file @Seoul Dynasty vs @Philadelphia Fusion  _ Countdown Cup Knockouts _ Week 3 Day 3 — East-Z9B5gMWuBrg.f140.m4a (pass -k to keep)\n"
     ]
    }
   ],
   "source": [
    "url = \"https://youtu.be/Z9B5gMWuBrg\"\n",
    "filename = download(url)"
   ]
  },
  {
   "cell_type": "code",
   "execution_count": 6,
   "id": "3a48b005",
   "metadata": {},
   "outputs": [
    {
     "name": "stdout",
     "output_type": "stream",
     "text": [
      "working on frame 7854\n",
      "Done!\n"
     ]
    }
   ],
   "source": [
    "video_cut(filename,\"pred/images/8train_\")"
   ]
  },
  {
   "cell_type": "markdown",
   "id": "1415e992",
   "metadata": {},
   "source": [
    "## Data Preprocessing"
   ]
  },
  {
   "cell_type": "code",
   "execution_count": 7,
   "id": "a3fe72b2",
   "metadata": {},
   "outputs": [
    {
     "name": "stdout",
     "output_type": "stream",
     "text": [
      "Found 44504 images belonging to 2 classes.\n",
      "Found 11125 images belonging to 2 classes.\n"
     ]
    }
   ],
   "source": [
    "image_generator = ImageDataGenerator(rescale = 1./255,\n",
    "                                   validation_split=.2,\n",
    "                                   shear_range = 0.2,\n",
    "                                   zoom_range = 0.2,\n",
    "                                   horizontal_flip = True)\n",
    "training_set = image_generator.flow_from_directory(batch_size=32,\n",
    "                                                 directory='train',\n",
    "                                                 shuffle=True,\n",
    "                                                 target_size=(64, 64), \n",
    "                                                 subset=\"training\",\n",
    "                                                 class_mode='binary')\n",
    "test_set = image_generator.flow_from_directory(batch_size=32,\n",
    "                                                 directory='train',\n",
    "                                                 shuffle=True,\n",
    "                                                 target_size=(64, 64), \n",
    "                                                 subset=\"validation\",\n",
    "                                                 class_mode='binary')"
   ]
  },
  {
   "cell_type": "markdown",
   "id": "42643e83",
   "metadata": {},
   "source": [
    "## Building the CNN"
   ]
  },
  {
   "cell_type": "code",
   "execution_count": 8,
   "id": "20347387",
   "metadata": {},
   "outputs": [],
   "source": [
    "cnn = tf.keras.models.Sequential()\n",
    "cnn.add(tf.keras.layers.Conv2D(filters=32, kernel_size=3, activation='relu', input_shape=[64, 64, 3]))\n",
    "cnn.add(tf.keras.layers.MaxPool2D(pool_size=2, strides=2))\n",
    "cnn.add(tf.keras.layers.Conv2D(filters=32, kernel_size=3, activation='relu'))\n",
    "cnn.add(tf.keras.layers.MaxPool2D(pool_size=2, strides=2))\n",
    "cnn.add(tf.keras.layers.Flatten())\n",
    "cnn.add(tf.keras.layers.Dense(units=128, activation='relu'))\n",
    "cnn.add(tf.keras.layers.Dense(units=1, activation='sigmoid'))"
   ]
  },
  {
   "cell_type": "markdown",
   "id": "b711f301",
   "metadata": {},
   "source": [
    "## Training the CNN"
   ]
  },
  {
   "cell_type": "code",
   "execution_count": 9,
   "id": "96cd737a",
   "metadata": {},
   "outputs": [],
   "source": [
    "cnn.compile(optimizer = 'adam',\n",
    "            loss = 'binary_crossentropy',\n",
    "            metrics = [tf.keras.metrics.BinaryAccuracy(),\n",
    "                       tf.keras.metrics.FalseNegatives(),\n",
    "                       tf.keras.metrics.FalsePositives()])"
   ]
  },
  {
   "cell_type": "code",
   "execution_count": 10,
   "id": "1fc34574",
   "metadata": {},
   "outputs": [],
   "source": [
    "from keras.callbacks import ModelCheckpoint\n",
    "filepath=\"weights.best.hdf5\"\n",
    "checkpoint = ModelCheckpoint(filepath, monitor='val_loss', verbose=1, save_best_only=True, mode='min')\n",
    "callbacks_list = [checkpoint]      # model check pointing based on validation loss"
   ]
  },
  {
   "cell_type": "code",
   "execution_count": 11,
   "id": "55d8563b",
   "metadata": {},
   "outputs": [
    {
     "name": "stdout",
     "output_type": "stream",
     "text": [
      "Epoch 1/25\n",
      "1391/1391 [==============================] - 758s 544ms/step - loss: 0.0706 - binary_accuracy: 0.9802 - false_negatives: 416.0000 - false_positives: 466.0000 - val_loss: 0.0638 - val_binary_accuracy: 0.9852 - val_false_negatives: 13.0000 - val_false_positives: 152.0000\n",
      "\n",
      "Epoch 00001: val_loss improved from inf to 0.06382, saving model to weights.best.hdf5\n",
      "Epoch 2/25\n",
      "1391/1391 [==============================] - 636s 457ms/step - loss: 0.0370 - binary_accuracy: 0.9910 - false_negatives: 214.0000 - false_positives: 187.0000 - val_loss: 0.1086 - val_binary_accuracy: 0.9718 - val_false_negatives: 6.0000 - val_false_positives: 308.0000\n",
      "\n",
      "Epoch 00002: val_loss did not improve from 0.06382\n",
      "Epoch 3/25\n",
      "1391/1391 [==============================] - 640s 460ms/step - loss: 0.0307 - binary_accuracy: 0.9926 - false_negatives: 182.0000 - false_positives: 149.0000 - val_loss: 0.0498 - val_binary_accuracy: 0.9899 - val_false_negatives: 6.0000 - val_false_positives: 106.0000\n",
      "\n",
      "Epoch 00003: val_loss improved from 0.06382 to 0.04978, saving model to weights.best.hdf5\n",
      "Epoch 4/25\n",
      "1391/1391 [==============================] - 637s 458ms/step - loss: 0.0280 - binary_accuracy: 0.9925 - false_negatives: 185.0000 - false_positives: 149.0000 - val_loss: 0.0439 - val_binary_accuracy: 0.9903 - val_false_negatives: 8.0000 - val_false_positives: 100.0000\n",
      "\n",
      "Epoch 00004: val_loss improved from 0.04978 to 0.04394, saving model to weights.best.hdf5\n",
      "Epoch 5/25\n",
      "1391/1391 [==============================] - 638s 459ms/step - loss: 0.0253 - binary_accuracy: 0.9933 - false_negatives: 178.0000 - false_positives: 121.0000 - val_loss: 0.0406 - val_binary_accuracy: 0.9919 - val_false_negatives: 9.0000 - val_false_positives: 81.0000\n",
      "\n",
      "Epoch 00005: val_loss improved from 0.04394 to 0.04060, saving model to weights.best.hdf5\n",
      "Epoch 6/25\n",
      "1391/1391 [==============================] - 637s 458ms/step - loss: 0.0236 - binary_accuracy: 0.9940 - false_negatives: 159.0000 - false_positives: 110.0000 - val_loss: 0.0431 - val_binary_accuracy: 0.9916 - val_false_negatives: 7.0000 - val_false_positives: 86.0000\n",
      "\n",
      "Epoch 00006: val_loss did not improve from 0.04060\n",
      "Epoch 7/25\n",
      "1391/1391 [==============================] - 640s 460ms/step - loss: 0.0215 - binary_accuracy: 0.9940 - false_negatives: 160.0000 - false_positives: 109.0000 - val_loss: 0.0489 - val_binary_accuracy: 0.9879 - val_false_negatives: 5.0000 - val_false_positives: 130.0000\n",
      "\n",
      "Epoch 00007: val_loss did not improve from 0.04060\n",
      "Epoch 8/25\n",
      "1391/1391 [==============================] - 639s 459ms/step - loss: 0.0207 - binary_accuracy: 0.9939 - false_negatives: 154.0000 - false_positives: 116.0000 - val_loss: 0.0609 - val_binary_accuracy: 0.9875 - val_false_negatives: 6.0000 - val_false_positives: 133.0000\n",
      "\n",
      "Epoch 00008: val_loss did not improve from 0.04060\n",
      "Epoch 9/25\n",
      "1391/1391 [==============================] - 641s 461ms/step - loss: 0.0188 - binary_accuracy: 0.9942 - false_negatives: 148.0000 - false_positives: 109.0000 - val_loss: 0.0317 - val_binary_accuracy: 0.9936 - val_false_negatives: 13.0000 - val_false_positives: 58.0000\n",
      "\n",
      "Epoch 00009: val_loss improved from 0.04060 to 0.03175, saving model to weights.best.hdf5\n",
      "Epoch 10/25\n",
      "1391/1391 [==============================] - 639s 460ms/step - loss: 0.0189 - binary_accuracy: 0.9944 - false_negatives: 150.0000 - false_positives: 101.0000 - val_loss: 0.0544 - val_binary_accuracy: 0.9882 - val_false_negatives: 8.0000 - val_false_positives: 123.0000\n",
      "\n",
      "Epoch 00010: val_loss did not improve from 0.03175\n",
      "Epoch 11/25\n",
      "1391/1391 [==============================] - 639s 459ms/step - loss: 0.0173 - binary_accuracy: 0.9947 - false_negatives: 141.0000 - false_positives: 97.0000 - val_loss: 0.0451 - val_binary_accuracy: 0.9873 - val_false_negatives: 2.0000 - val_false_positives: 139.0000\n",
      "\n",
      "Epoch 00011: val_loss did not improve from 0.03175\n",
      "Epoch 12/25\n",
      "1391/1391 [==============================] - 638s 458ms/step - loss: 0.0164 - binary_accuracy: 0.9949 - false_negatives: 129.0000 - false_positives: 98.0000 - val_loss: 0.0517 - val_binary_accuracy: 0.9905 - val_false_negatives: 2.0000 - val_false_positives: 104.0000\n",
      "\n",
      "Epoch 00012: val_loss did not improve from 0.03175\n",
      "Epoch 13/25\n",
      "1391/1391 [==============================] - 640s 460ms/step - loss: 0.0160 - binary_accuracy: 0.9951 - false_negatives: 120.0000 - false_positives: 96.0000 - val_loss: 0.0679 - val_binary_accuracy: 0.9857 - val_false_negatives: 3.0000 - val_false_positives: 156.0000\n",
      "\n",
      "Epoch 00013: val_loss did not improve from 0.03175\n",
      "Epoch 14/25\n",
      "1391/1391 [==============================] - 640s 460ms/step - loss: 0.0155 - binary_accuracy: 0.9949 - false_negatives: 121.0000 - false_positives: 106.0000 - val_loss: 0.0483 - val_binary_accuracy: 0.9922 - val_false_negatives: 8.0000 - val_false_positives: 79.0000\n",
      "\n",
      "Epoch 00014: val_loss did not improve from 0.03175\n",
      "Epoch 15/25\n",
      "1391/1391 [==============================] - 638s 459ms/step - loss: 0.0151 - binary_accuracy: 0.9949 - false_negatives: 128.0000 - false_positives: 97.0000 - val_loss: 0.0962 - val_binary_accuracy: 0.9815 - val_false_negatives: 3.0000 - val_false_positives: 203.0000\n",
      "\n",
      "Epoch 00015: val_loss did not improve from 0.03175\n",
      "Epoch 16/25\n",
      "1391/1391 [==============================] - 638s 458ms/step - loss: 0.0138 - binary_accuracy: 0.9952 - false_negatives: 127.0000 - false_positives: 88.0000 - val_loss: 0.0308 - val_binary_accuracy: 0.9940 - val_false_negatives: 10.0000 - val_false_positives: 57.0000\n",
      "\n",
      "Epoch 00016: val_loss improved from 0.03175 to 0.03083, saving model to weights.best.hdf5\n",
      "Epoch 17/25\n",
      "1391/1391 [==============================] - 638s 459ms/step - loss: 0.0144 - binary_accuracy: 0.9950 - false_negatives: 123.0000 - false_positives: 98.0000 - val_loss: 0.0561 - val_binary_accuracy: 0.9886 - val_false_negatives: 3.0000 - val_false_positives: 124.0000\n",
      "\n",
      "Epoch 00017: val_loss did not improve from 0.03083\n",
      "Epoch 18/25\n",
      "1391/1391 [==============================] - 637s 458ms/step - loss: 0.0138 - binary_accuracy: 0.9955 - false_negatives: 109.0000 - false_positives: 91.0000 - val_loss: 0.0367 - val_binary_accuracy: 0.9921 - val_false_negatives: 6.0000 - val_false_positives: 82.0000\n",
      "\n",
      "Epoch 00018: val_loss did not improve from 0.03083\n",
      "Epoch 19/25\n",
      "1391/1391 [==============================] - 639s 460ms/step - loss: 0.0118 - binary_accuracy: 0.9961 - false_negatives: 94.0000 - false_positives: 78.0000 - val_loss: 0.0452 - val_binary_accuracy: 0.9912 - val_false_negatives: 7.0000 - val_false_positives: 91.0000\n",
      "\n",
      "Epoch 00019: val_loss did not improve from 0.03083\n",
      "Epoch 20/25\n",
      "1391/1391 [==============================] - 642s 461ms/step - loss: 0.0123 - binary_accuracy: 0.9961 - false_negatives: 86.0000 - false_positives: 87.0000 - val_loss: 0.0518 - val_binary_accuracy: 0.9928 - val_false_negatives: 2.0000 - val_false_positives: 78.0000\n",
      "\n",
      "Epoch 00020: val_loss did not improve from 0.03083\n",
      "Epoch 21/25\n",
      "1391/1391 [==============================] - 638s 458ms/step - loss: 0.0133 - binary_accuracy: 0.9956 - false_negatives: 101.0000 - false_positives: 93.0000 - val_loss: 0.0480 - val_binary_accuracy: 0.9921 - val_false_negatives: 6.0000 - val_false_positives: 82.0000\n",
      "\n",
      "Epoch 00021: val_loss did not improve from 0.03083\n",
      "Epoch 22/25\n",
      "1391/1391 [==============================] - 638s 459ms/step - loss: 0.0111 - binary_accuracy: 0.9963 - false_negatives: 91.0000 - false_positives: 75.0000 - val_loss: 0.0430 - val_binary_accuracy: 0.9923 - val_false_negatives: 8.0000 - val_false_positives: 78.0000\n",
      "\n",
      "Epoch 00022: val_loss did not improve from 0.03083\n",
      "Epoch 23/25\n",
      "1391/1391 [==============================] - 637s 458ms/step - loss: 0.0103 - binary_accuracy: 0.9963 - false_negatives: 84.0000 - false_positives: 82.0000 - val_loss: 0.0398 - val_binary_accuracy: 0.9933 - val_false_negatives: 4.0000 - val_false_positives: 70.0000\n",
      "\n",
      "Epoch 00023: val_loss did not improve from 0.03083\n",
      "Epoch 24/25\n",
      "1391/1391 [==============================] - 637s 458ms/step - loss: 0.0100 - binary_accuracy: 0.9969 - false_negatives: 72.0000 - false_positives: 64.0000 - val_loss: 0.0492 - val_binary_accuracy: 0.9898 - val_false_negatives: 5.0000 - val_false_positives: 108.0000\n",
      "\n",
      "Epoch 00024: val_loss did not improve from 0.03083\n",
      "Epoch 25/25\n"
     ]
    },
    {
     "name": "stdout",
     "output_type": "stream",
     "text": [
      "1391/1391 [==============================] - 641s 460ms/step - loss: 0.0093 - binary_accuracy: 0.9968 - false_negatives: 77.0000 - false_positives: 67.0000 - val_loss: 0.0513 - val_binary_accuracy: 0.9935 - val_false_negatives: 3.0000 - val_false_positives: 69.0000\n",
      "\n",
      "Epoch 00025: val_loss did not improve from 0.03083\n"
     ]
    }
   ],
   "source": [
    "history = cnn.fit(x = training_set, validation_data = test_set, epochs = 25, batch_size = 32, callbacks=callbacks_list)"
   ]
  },
  {
   "cell_type": "code",
   "execution_count": 12,
   "id": "69d648a8",
   "metadata": {},
   "outputs": [],
   "source": [
    "def plot_metric(history, metric):\n",
    "    train_metrics = history.history[metric]\n",
    "    val_metrics = history.history['val_'+metric]\n",
    "    epochs = range(1, len(train_metrics) + 1)\n",
    "    plt.plot(epochs, train_metrics)\n",
    "    plt.plot(epochs, val_metrics)\n",
    "    plt.title('Training and validation '+ metric)\n",
    "    plt.xlabel(\"Epochs\")\n",
    "    plt.ylabel(metric)\n",
    "    plt.legend([\"train_\"+metric, 'val_'+metric])\n",
    "    plt.show()"
   ]
  },
  {
   "cell_type": "code",
   "execution_count": 13,
   "id": "69b1b6a6",
   "metadata": {},
   "outputs": [
    {
     "data": {
      "image/png": "[encoded data removed]",
      "text/plain": [
       "<Figure size 432x288 with 1 Axes>"
      ]
     },
     "metadata": {
      "needs_background": "light"
     },
     "output_type": "display_data"
    }
   ],
   "source": [
    "plot_metric(history, 'binary_accuracy')"
   ]
  },
  {
   "cell_type": "markdown",
   "id": "e4ed034d",
   "metadata": {},
   "source": [
    "### Saving/Loading the model"
   ]
  },
  {
   "cell_type": "code",
   "execution_count": 14,
   "id": "7c355b03",
   "metadata": {},
   "outputs": [],
   "source": [
    "cnn.save_weights(\"model.h5\")"
   ]
  },
  {
   "cell_type": "code",
   "execution_count": 73,
   "id": "1c5870ec",
   "metadata": {},
   "outputs": [],
   "source": [
    "cnn.load_weights(\"model.h5\")"
   ]
  },
  {
   "cell_type": "markdown",
   "id": "d318c1b1",
   "metadata": {},
   "source": [
    "## Preprocessing Test Data"
   ]
  },
  {
   "cell_type": "markdown",
   "id": "40393288",
   "metadata": {},
   "source": [
    "going to try and use flow from directory"
   ]
  },
  {
   "cell_type": "code",
   "execution_count": 15,
   "id": "97693297",
   "metadata": {},
   "outputs": [
    {
     "name": "stdout",
     "output_type": "stream",
     "text": [
      "Found 7854 images belonging to 1 classes.\n"
     ]
    }
   ],
   "source": [
    "image_generator2 = ImageDataGenerator(rescale = 1./255)\n",
    "\n",
    "test_generator = image_generator2.flow_from_directory(batch_size=1,\n",
    "                                                 directory='pred/',\n",
    "                                                 target_size=(64, 64), \n",
    "                                                 class_mode=None,\n",
    "                                                 shuffle = False)"
   ]
  },
  {
   "cell_type": "markdown",
   "id": "0db752db",
   "metadata": {},
   "source": [
    "## Predictions"
   ]
  },
  {
   "cell_type": "code",
   "execution_count": 16,
   "id": "9aad29a1",
   "metadata": {},
   "outputs": [
    {
     "name": "stdout",
     "output_type": "stream",
     "text": [
      "7854/7854 [==============================] - 163s 21ms/step\n"
     ]
    }
   ],
   "source": [
    "pred_probs=cnn.predict_generator(test_generator, steps=len(test_generator), verbose=1)"
   ]
  },
  {
   "cell_type": "code",
   "execution_count": 17,
   "id": "0c38f84f",
   "metadata": {},
   "outputs": [
    {
     "data": {
      "text/plain": [
       "array([[6.8474382e-02],\n",
       "       [6.7119509e-02],\n",
       "       [6.8026304e-02],\n",
       "       [5.1489770e-03],\n",
       "       [2.5724332e-05],\n",
       "       [7.8156145e-06],\n",
       "       [3.1818867e-01],\n",
       "       [3.6668086e-01],\n",
       "       [6.5127909e-03],\n",
       "       [1.5047193e-04]], dtype=float32)"
      ]
     },
     "execution_count": 17,
     "metadata": {},
     "output_type": "execute_result"
    }
   ],
   "source": [
    "pred_probs[:10]"
   ]
  },
  {
   "cell_type": "code",
   "execution_count": 18,
   "id": "832e7a63",
   "metadata": {},
   "outputs": [],
   "source": [
    "pred_bin=(pred_probs>0.5).astype(\"int32\")"
   ]
  },
  {
   "cell_type": "markdown",
   "id": "914bdc5c",
   "metadata": {},
   "source": [
    "So, I want some sort of averaging here. Rolling average "
   ]
  },
  {
   "cell_type": "code",
   "execution_count": 19,
   "id": "293f91eb",
   "metadata": {},
   "outputs": [],
   "source": [
    "def moving_average(x, w):\n",
    "    return np.convolve(x, np.ones(w), 'valid') / w"
   ]
  },
  {
   "cell_type": "markdown",
   "id": "59f13a10",
   "metadata": {},
   "source": [
    "## Turning Predictions Into Something Workable"
   ]
  },
  {
   "cell_type": "code",
   "execution_count": 20,
   "id": "dd1c85bb",
   "metadata": {},
   "outputs": [],
   "source": [
    "test_pred = (moving_average(pred_bin.ravel(),60)>.5).astype(\"int32\")"
   ]
  },
  {
   "cell_type": "code",
   "execution_count": 21,
   "id": "f52b5710",
   "metadata": {},
   "outputs": [
    {
     "data": {
      "text/plain": [
       "array([1, 1, 1, 1, 1, 1, 1, 1, 1, 1])"
      ]
     },
     "execution_count": 21,
     "metadata": {},
     "output_type": "execute_result"
    }
   ],
   "source": [
    "test_pred[:10]"
   ]
  },
  {
   "cell_type": "code",
   "execution_count": 22,
   "id": "9e70e8ad",
   "metadata": {},
   "outputs": [],
   "source": [
    "times = []\n",
    "for i in range(0,len(test_pred)):\n",
    "    if test_pred[i] == 1:\n",
    "        times.append(i)"
   ]
  },
  {
   "cell_type": "code",
   "execution_count": 23,
   "id": "729d22b4",
   "metadata": {},
   "outputs": [
    {
     "data": {
      "text/plain": [
       "[0, 1, 2, 3, 4, 5, 6, 7, 8, 9]"
      ]
     },
     "execution_count": 23,
     "metadata": {},
     "output_type": "execute_result"
    }
   ],
   "source": [
    "times[:10]"
   ]
  },
  {
   "cell_type": "code",
   "execution_count": 24,
   "id": "9035c85b",
   "metadata": {},
   "outputs": [
    {
     "data": {
      "text/plain": [
       "[(0, 15),\n",
       " (149, 515),\n",
       " (770, 1128),\n",
       " (1844, 3070),\n",
       " (3532, 4738),\n",
       " (5273, 5870),\n",
       " (6398, 7268),\n",
       " (7411, 7488),\n",
       " (7567, 7659)]"
      ]
     },
     "execution_count": 24,
     "metadata": {},
     "output_type": "execute_result"
    }
   ],
   "source": [
    "count = 0\n",
    "start_stop = []\n",
    "for i in range(0,len(times)-1):\n",
    "    if times[i] == times[i+1]-1:\n",
    "        count = count + 1\n",
    "    else:\n",
    "        start_stop.append((times[i]-count,times[i]))\n",
    "        count = 0\n",
    "start_stop"
   ]
  },
  {
   "cell_type": "markdown",
   "id": "541a3581",
   "metadata": {},
   "source": [
    "So the start and stop times are much more readable, but game play within a couple of minutes shouldn't be in different groups"
   ]
  },
  {
   "cell_type": "code",
   "execution_count": 25,
   "id": "ed7417d3",
   "metadata": {
    "scrolled": false
   },
   "outputs": [],
   "source": [
    "def combine_clips(start_stop):\n",
    "    reduced = [start_stop[0]]\n",
    "    for t in start_stop:\n",
    "        if t[0] - reduced[-1][1] < 180:\n",
    "            reduced[-1] = (reduced[-1][0],t[1])\n",
    "        else:\n",
    "            reduced.append(t)\n",
    "    return reduced"
   ]
  },
  {
   "cell_type": "code",
   "execution_count": 26,
   "id": "cd00ca61",
   "metadata": {},
   "outputs": [
    {
     "data": {
      "text/plain": [
       "[(0, 515), (770, 1128), (1844, 3070), (3532, 4738), (5273, 5870), (6398, 7659)]"
      ]
     },
     "execution_count": 26,
     "metadata": {},
     "output_type": "execute_result"
    }
   ],
   "source": [
    "reduced = combine_clips(start_stop)\n",
    "reduced"
   ]
  },
  {
   "cell_type": "markdown",
   "id": "eda331e6",
   "metadata": {},
   "source": [
    "Looking up above we are doing much better, but we might have a clip with tiny length, so lets make a section of code that clears anything less than 60 seconds (highlight video length)"
   ]
  },
  {
   "cell_type": "code",
   "execution_count": 27,
   "id": "193b6865",
   "metadata": {},
   "outputs": [
    {
     "data": {
      "text/plain": [
       "[(0, 515), (770, 1128), (1844, 3070), (3532, 4738), (5273, 5870), (6398, 7659)]"
      ]
     },
     "execution_count": 27,
     "metadata": {},
     "output_type": "execute_result"
    }
   ],
   "source": [
    "final_time = []\n",
    "for item in reduced:\n",
    "    if item[1]-item[0] > 120:\n",
    "        final_time.append(item)\n",
    "final_time"
   ]
  },
  {
   "cell_type": "markdown",
   "id": "face9b4a",
   "metadata": {},
   "source": [
    "## Writting Out Movie"
   ]
  },
  {
   "cell_type": "code",
   "execution_count": 28,
   "id": "13cf0db4",
   "metadata": {},
   "outputs": [],
   "source": [
    "def ffmpeg_time_format(final_time):\n",
    "    select_text = \"'\"\n",
    "    for i in range(0,len(final_time)):\n",
    "        select_text = select_text+\"between(t,\"+str(final_time[i][0]-30)+\",\"+str(final_time[i][1]+30)+\")\"\n",
    "        if i < len(final_time)-1:\n",
    "            select_text = select_text + \"+\"\n",
    "    select_text = select_text + \"'\"\n",
    "    return select_text"
   ]
  },
  {
   "cell_type": "code",
   "execution_count": 29,
   "id": "b1f38812",
   "metadata": {},
   "outputs": [],
   "source": [
    "def cut(video,final_time,out):\n",
    "    command = \"ffmpeg -i \\\"{video}\\\" -vf \\\"select={select_text}, setpts=N/FRAME_RATE/TB\\\" -af \\\"aselect={select_text}, asetpts=N/SR/TB\\\" {out}.mp4\".format(video=video, select_text=ffmpeg_time_format(final_time), out=out)\n",
    "    #subprocess.call(command,shell=True)\n",
    "    print(command)\n"
   ]
  },
  {
   "cell_type": "code",
   "execution_count": null,
   "id": "de46aa89",
   "metadata": {},
   "outputs": [],
   "source": [
    "Cut(filename,final_time, \"out\")"
   ]
  },
  {
   "cell_type": "markdown",
   "id": "a64bbea9",
   "metadata": {},
   "source": [
    "## Depricated - Moviepy method"
   ]
  },
  {
   "cell_type": "code",
   "execution_count": null,
   "id": "ddca8fcf",
   "metadata": {},
   "outputs": [],
   "source": [
    "# clip = VideoFileClip(videoFile)\n",
    "# final = concatenate([clip.subclip(max(final_time[i][0]-30,0), min(final_time[i][1]+30,clip.duration)) for i in range(0,len(final_time))])\n",
    "# final.to_videofile('test3.mp4')"
   ]
  },
  {
   "cell_type": "markdown",
   "id": "d7e1ac28",
   "metadata": {},
   "source": [
    "## Next Steps\n",
    "\n",
    "~~1) Setup image generator for the predictions. Right now this takes an ungodly amount of ram~~\n",
    "\n",
    "~~2) Make a callout for youtube.dl to run everything from this one notebook~~\n",
    "\n",
    "~~3) Add more trainning Data~~\n",
    "\n",
    "~~4) Increase the number of Epochs for the CNN - once I stop adding to the training data~~\n",
    "\n",
    "5) Add in layer graphics\n",
    "\n",
    "~~6) Add higher weights for not gameplay time~~\n",
    "\n",
    "7) Build a progress bar for cutting up the images\n",
    "\n",
    "~~9) Switch over to ffmpeg, maybe, Working on this now and I'm not getting a time advantage.~~\n",
    "\n",
    "~~10) Work on optimizing speed fpr ffmpeg, accept some lower quality~~\n",
    "\n",
    "~~11) Build a CLT~~\n",
    "\n",
    "12) Build cleanup function\n",
    "\n",
    "13) Setup better path handling\n",
    "\n",
    "14) Automate pulling with a web scrapper"
   ]
  }
 ],
 "metadata": {
  "kernelspec": {
   "display_name": "Python 3 (ipykernel)",
   "language": "python",
   "name": "python3"
  },
  "language_info": {
   "codemirror_mode": {
    "name": "ipython",
    "version": 3
   },
   "file_extension": ".py",
   "mimetype": "text/x-python",
   "name": "python",
   "nbconvert_exporter": "python",
   "pygments_lexer": "ipython3",
   "version": "3.9.6"
  }
 },
 "nbformat": 4,
 "nbformat_minor": 5
}
